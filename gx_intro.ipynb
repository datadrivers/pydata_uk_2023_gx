{
 "cells": [
  {
   "cell_type": "markdown",
   "id": "70f36dd1-4783-4a00-beda-388e3064cc32",
   "metadata": {},
   "source": [
    "# Great Expecatations\n",
    "\n",
    "This notebook aims to show the key concepts of Great Expectations (*GX*) in a few minutes. 🕙"
   ]
  },
  {
   "cell_type": "code",
   "execution_count": 1,
   "id": "21b5b402-48e6-457b-9e9e-7ed2e89e1928",
   "metadata": {
    "tags": []
   },
   "outputs": [],
   "source": [
    "from great_expectations.checkpoint import SimpleCheckpoint\n",
    "import ruamel.yaml as yaml\n",
    "from typing import Any, Dict\n",
    "from great_expectations.data_context import BaseDataContext\n",
    "from great_expectations.data_context.types.base import DataContextConfig\n",
    "from google.cloud import storage\n",
    "from pathlib import Path\n",
    "import great_expectations as gx\n",
    "import os\n",
    "import time"
   ]
  },
  {
   "cell_type": "markdown",
   "id": "2186225f-0ebd-42c0-ba69-1d3dc85dbf2e",
   "metadata": {},
   "source": [
    "## Create Context\n",
    "\n",
    "The context is the entry point to all GX functionalities. Here, it is fed from the configuration file.  However, it is also possible to describe all settings directly in the code via a so-called *Emphemeral Data Context*."
   ]
  },
  {
   "cell_type": "code",
   "execution_count": 2,
   "id": "0e2f0f34-6e5b-4c47-a71d-7d741fb2a43a",
   "metadata": {},
   "outputs": [],
   "source": [
    "context = gx.get_context()"
   ]
  },
  {
   "cell_type": "markdown",
   "id": "0197744b-c3e5-4d15-996a-af327e3c42df",
   "metadata": {},
   "source": [
    "## Build an expectation suite\n",
    "\n",
    "Under the so-called expectation suite, a set of expectations are stored."
   ]
  },
  {
   "cell_type": "code",
   "execution_count": 3,
   "id": "f05524a9-3646-417c-81b2-f85840211fbd",
   "metadata": {
    "tags": []
   },
   "outputs": [],
   "source": [
    "EXPECTATION_SUITE_NAME = \"suite01\""
   ]
  },
  {
   "cell_type": "code",
   "execution_count": 4,
   "id": "6bb04595-c42c-478f-a0de-2b46576140e6",
   "metadata": {},
   "outputs": [
    {
     "name": "stdout",
     "output_type": "stream",
     "text": [
      "Loaded ExpectationSuite \"suite01\" containing 2 expectations.\n"
     ]
    }
   ],
   "source": [
    "from great_expectations.exceptions import DataContextError\n",
    "\n",
    "try:\n",
    "    suite = context.get_expectation_suite(expectation_suite_name=EXPECTATION_SUITE_NAME)\n",
    "    print(f'Loaded ExpectationSuite \"{suite.expectation_suite_name}\" containing {len(suite.expectations)} expectations.')\n",
    "except DataContextError:\n",
    "    suite = context.create_expectation_suite(expectation_suite_name=EXPECTATION_SUITE_NAME)\n",
    "    print(f'Created ExpectationSuite \"{suite.expectation_suite_name}\".')"
   ]
  },
  {
   "cell_type": "markdown",
   "id": "68413420-c92e-45f9-995e-c9306709c76f",
   "metadata": {},
   "source": [
    "### Define a batch request\n",
    "\n",
    "Later it is decided whether the so-called interactive mode should be used. In this case, when formulating the expected values, testing is done directly on a batch of the data. If the amount of data is larger, it is advisable to use a limit. "
   ]
  },
  {
   "cell_type": "code",
   "execution_count": 5,
   "id": "0c06e1ad-7637-4cf0-a14e-7b4ac827bf31",
   "metadata": {
    "tags": []
   },
   "outputs": [],
   "source": [
    "INTERACTIVE_EVALUATION = True"
   ]
  },
  {
   "cell_type": "code",
   "execution_count": 6,
   "id": "4fcfe864-0bf9-48f0-9c92-02f3af6b1daf",
   "metadata": {
    "tags": []
   },
   "outputs": [],
   "source": [
    "batch_request = {'datasource_name': 'source_local',\n",
    "                'data_connector_name': 'default_inferred_data_connector_name',\n",
    "                'data_asset_name': 'Housing.csv',\n",
    "                }"
   ]
  },
  {
   "cell_type": "code",
   "execution_count": 7,
   "id": "5d04734a-3e91-43c4-a088-db1983e6031c",
   "metadata": {},
   "outputs": [],
   "source": [
    "from great_expectations.core.batch import BatchRequest\n",
    "\n",
    "validator = context.get_validator(\n",
    "    batch_request=BatchRequest(**batch_request),\n",
    "    expectation_suite_name=EXPECTATION_SUITE_NAME\n",
    ")\n",
    "\n",
    "validator.interactive_evaluation = INTERACTIVE_EVALUATION\n",
    "\n",
    "for old_expectation in suite.expectations:\n",
    "    validator.remove_expectation(old_expectation)"
   ]
  },
  {
   "cell_type": "markdown",
   "id": "752761fa-7b20-4e6f-a5ac-f717b4b43357",
   "metadata": {},
   "source": [
    "### Forumlate expectations\n",
    "\n",
    "There is a whole range of off-the-shelf expectations. The list can be found at [here](https://greatexpectations.io/expectations/).\n",
    "\n",
    "But there are also ways to define and customize your own expectations. If you have done so, it is worth sharing then. (Community 💪)"
   ]
  },
  {
   "cell_type": "code",
   "execution_count": 8,
   "id": "0d90ac25-2775-4476-946c-ed5a5dd5bfe6",
   "metadata": {},
   "outputs": [
    {
     "data": {
      "application/vnd.jupyter.widget-view+json": {
       "model_id": "6b80a353b05f4aec80b474d607f01018",
       "version_major": 2,
       "version_minor": 0
      },
      "text/plain": [
       "Calculating Metrics:   0%|          | 0/4 [00:00<?, ?it/s]"
      ]
     },
     "metadata": {},
     "output_type": "display_data"
    },
    {
     "data": {
      "text/plain": [
       "{\n",
       "  \"success\": true,\n",
       "  \"meta\": {},\n",
       "  \"exception_info\": {\n",
       "    \"raised_exception\": false,\n",
       "    \"exception_traceback\": null,\n",
       "    \"exception_message\": null\n",
       "  },\n",
       "  \"result\": {\n",
       "    \"observed_value\": 3\n",
       "  }\n",
       "}"
      ]
     },
     "execution_count": 8,
     "metadata": {},
     "output_type": "execute_result"
    }
   ],
   "source": [
    "validator.expect_column_max_to_be_between(column=\"parking\", min_value=3, max_value=4)"
   ]
  },
  {
   "cell_type": "code",
   "execution_count": 9,
   "id": "78988733-6c92-4f27-adea-ac173b9df123",
   "metadata": {},
   "outputs": [
    {
     "data": {
      "application/vnd.jupyter.widget-view+json": {
       "model_id": "249dd833fb17421ca75e3352906a07c0",
       "version_major": 2,
       "version_minor": 0
      },
      "text/plain": [
       "Calculating Metrics:   0%|          | 0/4 [00:00<?, ?it/s]"
      ]
     },
     "metadata": {},
     "output_type": "display_data"
    },
    {
     "data": {
      "text/plain": [
       "{\n",
       "  \"success\": true,\n",
       "  \"meta\": {},\n",
       "  \"exception_info\": {\n",
       "    \"raised_exception\": false,\n",
       "    \"exception_traceback\": null,\n",
       "    \"exception_message\": null\n",
       "  },\n",
       "  \"result\": {\n",
       "    \"observed_value\": 4766729.247706422\n",
       "  }\n",
       "}"
      ]
     },
     "execution_count": 9,
     "metadata": {},
     "output_type": "execute_result"
    }
   ],
   "source": [
    "validator.expect_column_mean_to_be_between(column=\"price\", min_value=4000000, max_value=5000000)"
   ]
  },
  {
   "cell_type": "code",
   "execution_count": 10,
   "id": "7b6bbbb1-d512-44a4-a6eb-34a3c7df3448",
   "metadata": {},
   "outputs": [],
   "source": [
    "# validator.expect_column_stdev_to_be_between(column=\"price\", min_value=1000000, max_value=1100000) "
   ]
  },
  {
   "cell_type": "markdown",
   "id": "121659cc-31be-446e-8109-ad6f89086838",
   "metadata": {},
   "source": [
    "### Save it"
   ]
  },
  {
   "cell_type": "code",
   "execution_count": 11,
   "id": "bb55276e-c2e0-459a-a4be-13d79b54634d",
   "metadata": {},
   "outputs": [],
   "source": [
    "validator.save_expectation_suite(\n",
    "    discard_failed_expectations=False,\n",
    "    discard_include_config_kwargs=False)"
   ]
  },
  {
   "cell_type": "code",
   "execution_count": 12,
   "id": "da230353-0b9e-4800-8c71-ea6d9ccd6f40",
   "metadata": {
    "tags": []
   },
   "outputs": [],
   "source": [
    "suite_saved = context.get_expectation_suite(expectation_suite_name=EXPECTATION_SUITE_NAME)"
   ]
  },
  {
   "cell_type": "code",
   "execution_count": 13,
   "id": "2b958e27-091c-4a7f-8d12-990515fc37a8",
   "metadata": {
    "tags": []
   },
   "outputs": [
    {
     "data": {
      "text/plain": [
       "{\n",
       "  \"ge_cloud_id\": null,\n",
       "  \"meta\": {\n",
       "    \"great_expectations_version\": \"0.15.28\"\n",
       "  },\n",
       "  \"expectations\": [\n",
       "    {\n",
       "      \"meta\": {},\n",
       "      \"expectation_type\": \"expect_column_max_to_be_between\",\n",
       "      \"kwargs\": {\n",
       "        \"column\": \"parking\",\n",
       "        \"max_value\": 4,\n",
       "        \"min_value\": 3\n",
       "      }\n",
       "    },\n",
       "    {\n",
       "      \"meta\": {},\n",
       "      \"expectation_type\": \"expect_column_mean_to_be_between\",\n",
       "      \"kwargs\": {\n",
       "        \"column\": \"price\",\n",
       "        \"max_value\": 5000000,\n",
       "        \"min_value\": 4000000\n",
       "      }\n",
       "    }\n",
       "  ],\n",
       "  \"expectation_suite_name\": \"suite01\",\n",
       "  \"data_asset_type\": null\n",
       "}"
      ]
     },
     "execution_count": 13,
     "metadata": {},
     "output_type": "execute_result"
    }
   ],
   "source": [
    "suite_saved"
   ]
  },
  {
   "cell_type": "markdown",
   "id": "853948d5-329a-4abf-95ce-7f0bc6f815c2",
   "metadata": {},
   "source": [
    "## Build a checkpoint and run a validation\n",
    "\n",
    "> Checkpoints provide a convenient abstraction for bundling the Validation of a Batch (or Batches) of data against an Expectation Suite (or several), as well as the Actions that should be taken after the validation.\n",
    "\n",
    "Here, we build a *SimpleCheckpoint*. \n",
    "It consists of\n",
    "* the validation of the expectation suite itself\n",
    "* Storing the results\n",
    "* Updating the so-called *data-docs*, a kind of report about past validation runs. "
   ]
  },
  {
   "cell_type": "code",
   "execution_count": 14,
   "id": "74568b9f-e6b4-4e36-814d-0b3ac646a5b7",
   "metadata": {
    "tags": []
   },
   "outputs": [],
   "source": [
    "EXPECTATION_SUITE_NAME = \"suite01\""
   ]
  },
  {
   "cell_type": "code",
   "execution_count": 15,
   "id": "bd466c0c-eaf7-4d45-8199-0bbcc5bfbcd2",
   "metadata": {
    "tags": []
   },
   "outputs": [],
   "source": [
    "batch_request = {'datasource_name': 'source_local',\n",
    "                'data_connector_name': 'default_inferred_data_connector_name',\n",
    "                'data_asset_name': 'Housing.csv',\n",
    "                }"
   ]
  },
  {
   "cell_type": "code",
   "execution_count": 16,
   "id": "53f1e286-024e-47c6-bc98-0d8acde958f1",
   "metadata": {},
   "outputs": [],
   "source": [
    "from great_expectations.checkpoint import SimpleCheckpoint"
   ]
  },
  {
   "cell_type": "code",
   "execution_count": 17,
   "id": "55ee8c14-8d36-4e3a-8271-d5d25e7c4b2a",
   "metadata": {
    "tags": []
   },
   "outputs": [],
   "source": [
    "checkpoint_config = {\n",
    "    \"class_name\": \"SimpleCheckpoint\",\n",
    "    \"validations\": [\n",
    "        {\n",
    "            \"batch_request\": batch_request,\n",
    "            \"expectation_suite_name\": EXPECTATION_SUITE_NAME\n",
    "        }\n",
    "    ]\n",
    "}\n",
    "checkpoint = SimpleCheckpoint(\n",
    "    f\"simple_checkpoint_{EXPECTATION_SUITE_NAME}\",\n",
    "    context,\n",
    "    **checkpoint_config\n",
    ")"
   ]
  },
  {
   "cell_type": "code",
   "execution_count": 18,
   "id": "cfe4d1a9-8f73-48d0-9e43-c6ae16ffc9d5",
   "metadata": {
    "tags": []
   },
   "outputs": [
    {
     "data": {
      "application/vnd.jupyter.widget-view+json": {
       "model_id": "d8db1952a41e491cb824807836addd40",
       "version_major": 2,
       "version_minor": 0
      },
      "text/plain": [
       "Calculating Metrics:   0%|          | 0/5 [00:00<?, ?it/s]"
      ]
     },
     "metadata": {},
     "output_type": "display_data"
    }
   ],
   "source": [
    "checkpoint_result = checkpoint.run()"
   ]
  },
  {
   "cell_type": "markdown",
   "id": "a4b350a6-0ea1-43a9-abf2-1214c99ad76e",
   "metadata": {},
   "source": [
    "## Take a look at the response"
   ]
  },
  {
   "cell_type": "code",
   "execution_count": 19,
   "id": "1d4d8603-bc48-4fc8-96be-1647e1dd931d",
   "metadata": {
    "tags": []
   },
   "outputs": [
    {
     "data": {
      "text/plain": [
       "dict_keys(['_run_id', '_run_results', '_checkpoint_config', '_success', '_validation_results', '_data_assets_validated', '_data_assets_validated_by_batch_id', '_validation_result_identifiers', '_expectation_suite_names', '_data_asset_names', '_validation_results_by_expectation_suite_name', '_validation_results_by_data_asset_name', '_batch_identifiers', '_statistics', '_validation_statistics', '_validation_results_by_validation_result_identifier'])"
      ]
     },
     "execution_count": 19,
     "metadata": {},
     "output_type": "execute_result"
    }
   ],
   "source": [
    "checkpoint_result.keys()"
   ]
  },
  {
   "cell_type": "code",
   "execution_count": 20,
   "id": "5618f926-46c8-48ff-b930-83019c7ba53a",
   "metadata": {
    "tags": []
   },
   "outputs": [],
   "source": [
    "identifier = list(checkpoint_result[\"run_results\"].keys())[0]"
   ]
  },
  {
   "cell_type": "markdown",
   "id": "c430dbb9-039f-48ad-97f2-474f9b575576",
   "metadata": {
    "tags": []
   },
   "source": [
    "### One can access the overall success..."
   ]
  },
  {
   "cell_type": "code",
   "execution_count": 21,
   "id": "23713705-536f-47ed-94fc-97dd3e6f1acb",
   "metadata": {
    "tags": []
   },
   "outputs": [
    {
     "data": {
      "text/plain": [
       "True"
      ]
     },
     "execution_count": 21,
     "metadata": {},
     "output_type": "execute_result"
    }
   ],
   "source": [
    "checkpoint_result[\"run_results\"][identifier][\"validation_result\"][\"success\"]"
   ]
  },
  {
   "cell_type": "markdown",
   "id": "ea970010-3aa2-43f8-8c03-e79b9b59ec87",
   "metadata": {},
   "source": [
    "### ... as well as detailed results."
   ]
  },
  {
   "cell_type": "code",
   "execution_count": 22,
   "id": "cd0c434d-1bcf-4452-9725-eb1f8213237a",
   "metadata": {
    "tags": []
   },
   "outputs": [],
   "source": [
    "# suite_saved = context.get_expectation_suite(expectation_suite_name=EXPECTATION_SUITE_NAME)"
   ]
  },
  {
   "cell_type": "code",
   "execution_count": 23,
   "id": "8d9c1fde-42d9-4f13-afaf-802343b6ba35",
   "metadata": {
    "tags": []
   },
   "outputs": [
    {
     "data": {
      "text/plain": [
       "{\n",
       "  \"ge_cloud_id\": null,\n",
       "  \"meta\": {\n",
       "    \"great_expectations_version\": \"0.15.28\"\n",
       "  },\n",
       "  \"expectations\": [\n",
       "    {\n",
       "      \"meta\": {},\n",
       "      \"expectation_type\": \"expect_column_max_to_be_between\",\n",
       "      \"kwargs\": {\n",
       "        \"column\": \"parking\",\n",
       "        \"max_value\": 4,\n",
       "        \"min_value\": 3\n",
       "      }\n",
       "    },\n",
       "    {\n",
       "      \"meta\": {},\n",
       "      \"expectation_type\": \"expect_column_mean_to_be_between\",\n",
       "      \"kwargs\": {\n",
       "        \"column\": \"price\",\n",
       "        \"max_value\": 5000000,\n",
       "        \"min_value\": 4000000\n",
       "      }\n",
       "    }\n",
       "  ],\n",
       "  \"expectation_suite_name\": \"suite01\",\n",
       "  \"data_asset_type\": null\n",
       "}"
      ]
     },
     "execution_count": 23,
     "metadata": {},
     "output_type": "execute_result"
    }
   ],
   "source": [
    "suite_saved"
   ]
  },
  {
   "cell_type": "code",
   "execution_count": 24,
   "id": "390288a3-b84f-4316-8e7d-a09b2f006599",
   "metadata": {
    "tags": []
   },
   "outputs": [
    {
     "data": {
      "text/plain": [
       "[{\n",
       "   \"success\": true,\n",
       "   \"meta\": {},\n",
       "   \"exception_info\": {\n",
       "     \"raised_exception\": false,\n",
       "     \"exception_traceback\": null,\n",
       "     \"exception_message\": null\n",
       "   },\n",
       "   \"result\": {\n",
       "     \"observed_value\": 3\n",
       "   }\n",
       " },\n",
       " {\n",
       "   \"success\": true,\n",
       "   \"meta\": {},\n",
       "   \"exception_info\": {\n",
       "     \"raised_exception\": false,\n",
       "     \"exception_traceback\": null,\n",
       "     \"exception_message\": null\n",
       "   },\n",
       "   \"result\": {\n",
       "     \"observed_value\": 4766729.247706422\n",
       "   }\n",
       " }]"
      ]
     },
     "execution_count": 24,
     "metadata": {},
     "output_type": "execute_result"
    }
   ],
   "source": [
    "checkpoint_result[\"run_results\"][identifier][\"validation_result\"][\"results\"]"
   ]
  },
  {
   "cell_type": "markdown",
   "id": "14f4be31-c5fc-48dc-b2ed-90c438d49155",
   "metadata": {
    "tags": []
   },
   "source": [
    "### Actions\n"
   ]
  },
  {
   "cell_type": "code",
   "execution_count": 25,
   "id": "d17b6960-9bf6-45fa-8771-5c92a4948e7b",
   "metadata": {
    "tags": []
   },
   "outputs": [
    {
     "data": {
      "text/plain": [
       "{'store_validation_result': {'class': 'StoreValidationResultAction'},\n",
       " 'store_evaluation_params': {'class': 'StoreEvaluationParametersAction'},\n",
       " 'update_data_docs': {'local_site': 'file:///Users/carsten/Desktop/pydata_uk_2023_gx/great_expectations/uncommitted/data_docs/local_site/validations/suite01/__none__/20230603T133440.077339Z/9b1a7743ca605aec17d0eb64dfdcd7b9.html',\n",
       "  'class': 'UpdateDataDocsAction'}}"
      ]
     },
     "execution_count": 25,
     "metadata": {},
     "output_type": "execute_result"
    }
   ],
   "source": [
    "checkpoint_result[\"run_results\"][identifier][\"actions_results\"]"
   ]
  },
  {
   "cell_type": "markdown",
   "id": "1f7aec9b-29d5-4643-a208-86f01b699b94",
   "metadata": {},
   "source": [
    "## Last, let's take a look at the data docs.."
   ]
  },
  {
   "cell_type": "code",
   "execution_count": 26,
   "id": "5cd129b3-5d78-47d3-91dd-6fbbc892a818",
   "metadata": {
    "tags": []
   },
   "outputs": [],
   "source": [
    "# context.open_data_docs()"
   ]
  },
  {
   "cell_type": "markdown",
   "id": "87d23b31-979c-4d5b-8d7f-ecb51bcc3f34",
   "metadata": {},
   "source": [
    "# Wrap-Up\n",
    "\n",
    "* The context forms the entry point to GX. It containt the information about where the storage locations are hosted and which data sources are available.\n",
    "* One or many expectations are are combined in one suite.\n",
    "* Expectations can be defined via pure Python code. They are translated into a yaml configuration in the background.\n",
    "* The execution engine (pandas, spark or sqlalchemy) executes the actual queries and produces the metrics.\n",
    "* Checkpoints bundle validation with potential follow-up actions.\n",
    "* One action can be the update of the so called data docs, a convenient reporting possibility to get an overview of suites and validation runs."
   ]
  },
  {
   "cell_type": "markdown",
   "id": "381e520e-38f0-41f8-93c6-89444d33660b",
   "metadata": {
    "tags": []
   },
   "source": [
    "# References\n",
    "* [Official documentation](https://docs.greatexpectations.io/docs/)"
   ]
  }
 ],
 "metadata": {
  "kernelspec": {
   "display_name": "Python 3 (ipykernel)",
   "language": "python",
   "name": "python3"
  },
  "language_info": {
   "codemirror_mode": {
    "name": "ipython",
    "version": 3
   },
   "file_extension": ".py",
   "mimetype": "text/x-python",
   "name": "python",
   "nbconvert_exporter": "python",
   "pygments_lexer": "ipython3",
   "version": "3.9.2"
  }
 },
 "nbformat": 4,
 "nbformat_minor": 5
}
